{
 "cells": [
  {
   "cell_type": "markdown",
   "metadata": {
    "slideshow": {
     "slide_type": "slide"
    }
   },
   "source": [
    "## 안녕 세상아! Hello World!\n",
    "\n",
    "파이톤 설치가 끝났으면 이제 무언가를 만들어보겠습니다.\n",
    "\n",
    "간단한 스크립트를 파일을 하나 만듭시다.\n",
    "\n",
    "1. 스크립트 파일 만들기\n",
    "2. \"안녕 세상아\" 프로그램 짜기\n",
    "3. 실행"
   ]
  },
  {
   "cell_type": "markdown",
   "metadata": {
    "collapsed": true,
    "slideshow": {
     "slide_type": "slide"
    }
   },
   "source": [
    "### 1. Writing a WAV file\n",
    "\n",
    "In this notebook, we will be using a standard Python module called *wave* that provides basic file writing and reading functionalities. First we will generate a WAV file with 10 seconds of white noise, just to see how the wave module works.\n",
    "\n",
    "The code may look a little confusing at first, but we will go through the code step-by-step in Part 2 of this notebook.\n",
    "\n",
    "You can also read [this great article](http://soledadpenades.com/2009/10/29/fastest-way-to-generate-wav-files-in-python-using-the-wave-module/) on generating wave files written by [Soledad Penades](https://github.com/sole)"
   ]
  }
 ],
 "metadata": {
  "celltoolbar": "Slideshow",
  "kernelspec": {
   "display_name": "Python 3",
   "language": "python",
   "name": "python3"
  },
  "language_info": {
   "codemirror_mode": {
    "name": "ipython",
    "version": 3
   },
   "file_extension": ".py",
   "mimetype": "text/x-python",
   "name": "python",
   "nbconvert_exporter": "python",
   "pygments_lexer": "ipython3",
   "version": "3.4.3"
  }
 },
 "nbformat": 4,
 "nbformat_minor": 0
}
